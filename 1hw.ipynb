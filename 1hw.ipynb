{
 "cells": [
  {
   "cell_type": "code",
   "execution_count": 14,
   "metadata": {},
   "outputs": [
    {
     "name": "stdout",
     "output_type": "stream",
     "text": [
      "apple:green\n",
      "orange:orange\n",
      "banana:yellow\n",
      "kiwi:green\n",
      "pomegranate:red\n"
     ]
    }
   ],
   "source": [
    "# Задание 8\n",
    "\n",
    "def fruits():\n",
    "    fruits = {\n",
    "    'apple':'green',\n",
    "    'orange':'orange',\n",
    "    'banana':'yellow',\n",
    "    'kiwi':'green',\n",
    "    'pomegranate':'red'\n",
    "}\n",
    "    for key,value in fruits.items():\n",
    "        print(f'{key}:{value}')\n",
    "fruits()"
   ]
  },
  {
   "cell_type": "code",
   "execution_count": 15,
   "metadata": {},
   "outputs": [
    {
     "name": "stdout",
     "output_type": "stream",
     "text": [
      "Были введены не целые числа\n"
     ]
    }
   ],
   "source": [
    "# Задание 12\n",
    "\n",
    "try:\n",
    "    x = int(input('Введите целое число: '))\n",
    "    y = int(input('Введите целое число: '))\n",
    "    result= x*y\n",
    "    print(f'Результат умножения {x} на {y} будет равен {result}')\n",
    "except ValueError:\n",
    "    print('Были введены не целые числа')\n",
    "\n",
    "\n"
   ]
  },
  {
   "cell_type": "code",
   "execution_count": 16,
   "metadata": {},
   "outputs": [
    {
     "name": "stdout",
     "output_type": "stream",
     "text": [
      "Author:Pushkin\n",
      "Name:Евгений Онегин\n",
      "Year:1833\n"
     ]
    }
   ],
   "source": [
    "# Задание 13\n",
    "\n",
    "def book_info():\n",
    "    book = {\n",
    "        'Author':'Pushkin',\n",
    "        'Name':'Евгений Онегин',\n",
    "        'Year':'1833'\n",
    "    }\n",
    "    for key,value in book.items():\n",
    "        print(f'{key}:{value}')\n",
    "book_info()\n"
   ]
  },
  {
   "cell_type": "code",
   "execution_count": 17,
   "metadata": {},
   "outputs": [
    {
     "name": "stdout",
     "output_type": "stream",
     "text": [
      "Amsterdam\n",
      "Vilnus\n",
      "Brest\n",
      "Grodno\n"
     ]
    }
   ],
   "source": [
    "# Задание 14\n",
    "\n",
    "def city():\n",
    "    Cities = {'Minsk','Amsterdam','Grodno','Brest','Vilnus'}\n",
    "    Cities.pop()\n",
    "    for city in Cities:\n",
    "        print(city)\n",
    "city()"
   ]
  },
  {
   "cell_type": "code",
   "execution_count": 18,
   "metadata": {},
   "outputs": [
    {
     "name": "stdout",
     "output_type": "stream",
     "text": [
      "Minsk\n",
      "Amsterdam\n",
      "Brest\n",
      "Grodno\n"
     ]
    }
   ],
   "source": [
    "# Задание 14\n",
    "\n",
    "def cities():\n",
    "    Cities = {'Minsk','Amsterdam','Grodno','Brest','Vilnus'}\n",
    "    Cities.remove('Vilnus')\n",
    "    for city in Cities:\n",
    "        print(city)\n",
    "cities()"
   ]
  },
  {
   "cell_type": "code",
   "execution_count": 30,
   "metadata": {},
   "outputs": [
    {
     "data": {
      "text/plain": [
       "[2, 4, 6, 8, 10, 12, 14, 16, 18, 20]"
      ]
     },
     "execution_count": 30,
     "metadata": {},
     "output_type": "execute_result"
    }
   ],
   "source": [
    "# Задание 16\n",
    "def get_numbers(numbers):\n",
    "    ch_numbers = []\n",
    "    for num in numbers:\n",
    "        if num % 2 == 0:\n",
    "            ch_numbers.append(num)\n",
    "    return ch_numbers\n",
    "numbers = list(range(1,21))\n",
    "result = get_numbers(numbers)\n",
    "result\n"
   ]
  }
 ],
 "metadata": {
  "kernelspec": {
   "display_name": "venv",
   "language": "python",
   "name": "python3"
  },
  "language_info": {
   "codemirror_mode": {
    "name": "ipython",
    "version": 3
   },
   "file_extension": ".py",
   "mimetype": "text/x-python",
   "name": "python",
   "nbconvert_exporter": "python",
   "pygments_lexer": "ipython3",
   "version": "3.10.11"
  }
 },
 "nbformat": 4,
 "nbformat_minor": 2
}
