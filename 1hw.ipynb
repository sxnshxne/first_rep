{
 "cells": [
  {
   "cell_type": "code",
   "execution_count": 1,
   "metadata": {},
   "outputs": [
    {
     "data": {
      "text/plain": [
       "{'apple': 'green',\n",
       " 'orange': 'orange',\n",
       " 'banana': 'yellow',\n",
       " 'kiwi': 'green',\n",
       " 'pomegranate': 'red'}"
      ]
     },
     "execution_count": 1,
     "metadata": {},
     "output_type": "execute_result"
    }
   ],
   "source": [
    "fruits = {\n",
    "    'apple':'green',\n",
    "    'orange':'orange',\n",
    "    'banana':'yellow',\n",
    "    'kiwi':'green',\n",
    "    'pomegranate':'red'\n",
    "}\n",
    "fruits"
   ]
  },
  {
   "cell_type": "code",
   "execution_count": 12,
   "metadata": {},
   "outputs": [
    {
     "name": "stdout",
     "output_type": "stream",
     "text": [
      "Были введены не целые числа\n"
     ]
    }
   ],
   "source": [
    "try:\n",
    "    x = int(input('Введите целое число: '))\n",
    "    y = int(input('Введите целое число: '))\n",
    "    result= x*y\n",
    "    print(f'Результат умножения {x} на {y} будет равен {result}')\n",
    "except ValueError:\n",
    "    print('Были введены не целые числа')\n",
    "\n",
    "\n"
   ]
  },
  {
   "cell_type": "code",
   "execution_count": 13,
   "metadata": {},
   "outputs": [
    {
     "data": {
      "text/plain": [
       "{'Author': 'Pushkin', 'Name': 'Евгений Онегин', 'Year': '1833'}"
      ]
     },
     "execution_count": 13,
     "metadata": {},
     "output_type": "execute_result"
    }
   ],
   "source": [
    "books = {\n",
    "    'Author':'Pushkin',\n",
    "    'Name':'Евгений Онегин',\n",
    "    'Year':'1833'\n",
    "}\n",
    "books"
   ]
  },
  {
   "cell_type": "code",
   "execution_count": 21,
   "metadata": {},
   "outputs": [
    {
     "data": {
      "text/plain": [
       "{'Brest', 'Grodno', 'Minsk', 'Vilnus'}"
      ]
     },
     "execution_count": 21,
     "metadata": {},
     "output_type": "execute_result"
    }
   ],
   "source": [
    "Cities = {'Minsk','Amsterdam','Grodno','Brest','Vilnus'}\n",
    "Cities.pop()\n",
    "Cities"
   ]
  },
  {
   "cell_type": "code",
   "execution_count": 22,
   "metadata": {},
   "outputs": [
    {
     "data": {
      "text/plain": [
       "{'Amsterdam', 'Brest', 'Grodno', 'Minsk'}"
      ]
     },
     "execution_count": 22,
     "metadata": {},
     "output_type": "execute_result"
    }
   ],
   "source": [
    "Cities = {'Minsk','Amsterdam','Grodno','Brest','Vilnus'}\n",
    "Cities.remove('Vilnus')\n",
    "Cities"
   ]
  },
  {
   "cell_type": "code",
   "execution_count": null,
   "metadata": {},
   "outputs": [],
   "source": []
  }
 ],
 "metadata": {
  "kernelspec": {
   "display_name": "venv",
   "language": "python",
   "name": "python3"
  },
  "language_info": {
   "codemirror_mode": {
    "name": "ipython",
    "version": 3
   },
   "file_extension": ".py",
   "mimetype": "text/x-python",
   "name": "python",
   "nbconvert_exporter": "python",
   "pygments_lexer": "ipython3",
   "version": "3.10.11"
  }
 },
 "nbformat": 4,
 "nbformat_minor": 2
}
